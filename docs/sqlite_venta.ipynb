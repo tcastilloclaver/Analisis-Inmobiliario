{
 "cells": [
  {
   "cell_type": "code",
   "execution_count": 1,
   "metadata": {},
   "outputs": [
    {
     "name": "stdout",
     "output_type": "stream",
     "text": [
      "(1, 'Chalet en venta en Boadilla del Monte - Parque Boadilla', 'Parque de Boadilla (Boadilla del Monte)', 1795000.0, '2024-11-05', 'compra', 415.0, 'No especificado', 6, 5, 'Entre 10 y 20 años', 'En buen estado', 'No especificado', 'Chalet', 28660, 1)\n",
      "(2, 'Casa pareada en venta en Cobeña', 'Cobeña', 670000.0, '2024-11-05', 'compra', 360.0, 'No especificado', 4, 3, 'Entre 10 y 20 años', 'En buen estado', 'No especificado', 'Casa', 28863, 0)\n",
      "(3, 'Piso en venta en Calle Joaquim Blume, Número 14', 'Zona Suroeste (Torrejón de Ardoz)', 254900.0, '2024-11-02', 'compra', 103.0, 92.0, 3, 2, 'Entre 20 y 30 años', 'En buen estado', '1ª', 'Piso', 28850, 0)\n",
      "(4, 'Piso en venta en Avenida de Concha Espina, cerca de Calle del Segre', 'Hispanoamérica (Distrito Chamartín. Madrid Capital)', 950000.0, '2024-11-05', 'compra', 141.0, 'No especificado', 3, 2, 'Más de 50 años', 'En buen estado', '1ª', 'Piso', 28036, 1)\n",
      "(5, 'Piso en venta en Calle del Duratón', 'Lucero (Distrito Latina. Madrid Capital)', 210000.0, '2024-10-17', 'compra', 65.0, 59.0, 3, 1, 'No especificado', 'No especificado', 'No especificado', 'Piso', None, 0)\n"
     ]
    }
   ],
   "source": [
    "import sqlite3\n",
    "import pandas as pd\n",
    "\n",
    "# Cargar el archivo CSV de inmuebles en venta\n",
    "ruta_csv = 'inmuebles_venta_con_cp.csv'\n",
    "datos = pd.read_csv(ruta_csv)\n",
    "\n",
    "# Conectar a la base de datos (se creará si no existe)\n",
    "conn = sqlite3.connect('venta_inmuebles.db')\n",
    "cursor = conn.cursor()\n",
    "\n",
    "# Crear la tabla en SQLite\n",
    "cursor.execute('''\n",
    "    CREATE TABLE IF NOT EXISTS inmuebles (\n",
    "        id INTEGER PRIMARY KEY AUTOINCREMENT,\n",
    "        descripcion TEXT,\n",
    "        localizacion TEXT,\n",
    "        precio REAL,\n",
    "        ultima_actualizacion DATE,\n",
    "        tipo_operacion TEXT,\n",
    "        superficie_construida REAL,\n",
    "        superficie_util REAL,\n",
    "        habitaciones INTEGER,\n",
    "        baños INTEGER,\n",
    "        antigüedad TEXT,\n",
    "        conservacion TEXT,\n",
    "        planta TEXT,\n",
    "        tipo_casa TEXT,\n",
    "        cp INTEGER\n",
    "    )\n",
    "''')\n",
    "\n",
    "# Insertar los datos en la tabla\n",
    "for _, fila in datos.iterrows():\n",
    "    cursor.execute('''\n",
    "        INSERT INTO inmuebles (descripcion, localizacion, precio, ultima_actualizacion,\n",
    "                               tipo_operacion, superficie_construida, superficie_util, \n",
    "                               habitaciones, baños, antigüedad, conservacion, planta, \n",
    "                               tipo_casa, cp)\n",
    "        VALUES (?, ?, ?, ?, ?, ?, ?, ?, ?, ?, ?, ?, ?, ?)\n",
    "    ''', (\n",
    "        fila['Descripción'], fila['Localización'], fila['Precio'], \n",
    "        fila['Última Actualización'], fila['Tipo De Operación'], \n",
    "        fila['Superficie Construida'], fila.get('Superficie Útil', None), \n",
    "        fila['Habitaciones'], fila['Baños'], fila['Antigüedad'], \n",
    "        fila['Conservación'], fila['Planta'], fila['Tipo De Casa'], \n",
    "        fila.get('CP', None)\n",
    "    ))\n",
    "\n",
    "# Guardar los cambios\n",
    "conn.commit()\n",
    "\n",
    "# Verificar los datos insertados\n",
    "cursor.execute(\"SELECT * FROM inmuebles LIMIT 5\")\n",
    "resultados = cursor.fetchall()\n",
    "for fila in resultados:\n",
    "    print(fila)\n",
    "\n",
    "# Cerrar la conexión\n",
    "conn.close()\n"
   ]
  }
 ],
 "metadata": {
  "kernelspec": {
   "display_name": ".venv",
   "language": "python",
   "name": "python3"
  },
  "language_info": {
   "codemirror_mode": {
    "name": "ipython",
    "version": 3
   },
   "file_extension": ".py",
   "mimetype": "text/x-python",
   "name": "python",
   "nbconvert_exporter": "python",
   "pygments_lexer": "ipython3",
   "version": "3.12.3"
  }
 },
 "nbformat": 4,
 "nbformat_minor": 2
}
