{
 "cells": [
  {
   "cell_type": "markdown",
   "metadata": {},
   "source": [
    "- A continuación nos disponemos a analizar la estructura de navagación y web de pisos.com, portal web que faciita la busqueda de activos inmobiliarios dentro del mercado español.\n",
    "\n",
    "-  La página principal cuenta diferentes apartados :\n",
    "    - Una barra de búsqueda donde podemos filtrar por el tipo de operación que deseamos como venta o alquiler, la ubicación desde ciudad o provincia y el tipo de activo (casas, locales, garajes o trasteros)\n",
    "    - Anuncios destacados \n",
    "    - Accesos rápidos : Publicar anuncion como opción para los propios anunciantes y decargar la app para visualizar el contenido y recibir alertas\n",
    "    - Publicidad : diferente tipos de banners publicitarios en relación al servicio inmobiliario, hipotecas, seguros del hogar y otros\n",
    "    - Filtro en función la la tipología en casas/pisos : Casa/chalet , ático , duplex , estudio , loft \n",
    "    - Acceso a redes sociales, copyright y política de privacidad \n",
    "    Podemos destacar que es una interfaz funcional y muy sencilla de utilizar para que los usuarios accedan cómoda y rápidamente.\n",
    "- Listado de propiedades :\n",
    "    - Visualización : Las propiedades se presentan en una cuadrícula o lista, con una imagen, información clave ( precio, ubicación , número de habitaciones y baños, metros cuadrados), y un enlace para obtener detalle. Estás tarjetas al inspeccionar la web podemos observar como se organizan en divs o contenedores html, con su clave específica ccs.\n",
    "    - Utiliza un sistema de paginación que nos permite navegar entre resultados.\n",
    "- Detalle de la propiedad:\n",
    "    - Descripción: Una vez hacemos clic accedemos a contenidos más específicos. Una información más detallada como mayor número de imágenes, otras características, descripción mayor del inmueble, certificado energético si lo tiene o localización aproximada con mapa interactivo\n",
    "    - Opción de concretar una visita\n",
    "    - Datos del anunciante si se facilitan\n",
    "- Filtros y navegación (desde la parte superior):\n",
    "    - Tipo de propiedad: Diferentes clases como pisos, chalets , áticos, etc.\n",
    "    - Precio mínimo y máximo\n",
    "    - Habitaciones\n",
    "    - Baños\n",
    "    - Superficies\n",
    "    - Características : terraza, jardín , calefacción , piscina....\n",
    "    - Mostrar solo : con fotos, con precio a la baja, útilma seman , último mes, puertas abiertas, anuncios recomendados, a estrenar.\n",
    "- Mapa y guardar búsqueda también en la parte superior\n",
    "- Componentes dinámicos :\n",
    "    -Elementos interactivos al incluir mapas de para la visualización exacta y botones de alerta\n",
    "    - Uso de cookies y scripts para seguir y analizar el comportamiento de usuarios\n",
    "\n",
    "-Utilización de Google Tag Manager (GTM) : está siendo utilizado en esta página para gestionar etiquetas y scripts. GTM permite cargar de manera eficiente scripts de seguimiento, análisis o publicidad sin necesidad de modificar directamente el código de la página cada vez.\n",
    "- Utilización de <script src el script carga una archivo JavaScript desde criteo.com para retargeting publicitario\n",
    "- <iframe> oculto: El iframe que aparece en este bloque tiene un atributo style=\"visibility: hidden; display: none;\", lo que indica que no es visible para el usuario, pero se está utilizando para cargar contenido externo, probablemente scripts de seguimiento o de publicidad. La URL es-config.sensic.net parece estar relacionada con la gestión de preferencias de privacidad o seguimiento de usuarios.\n",
    "\n",
    "La estructura se organiza en HTML con secciones específicas para facilitar el acceso\n",
    "Para realizar el web scraping nos centraremos en la estructura HTML  de las páginas de propiedades y en los contenedores accesibles a través de las diferentes clases."
   ]
  }
 ],
 "metadata": {
  "language_info": {
   "name": "python"
  }
 },
 "nbformat": 4,
 "nbformat_minor": 2
}
