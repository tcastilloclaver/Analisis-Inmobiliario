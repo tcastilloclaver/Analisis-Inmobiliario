{
 "cells": [
  {
   "cell_type": "code",
   "execution_count": null,
   "metadata": {},
   "outputs": [],
   "source": [
    "import pandas as pd\n",
    "import numpy as np\n",
    "import requests\n",
    "import matplotlib.pyplot as plt\n",
    "import seaborn as sns\n",
    "from scipy import stats\n",
    "from itertools import combinations\n",
    "from scipy.stats import shapiro"
   ]
  },
  {
   "cell_type": "code",
   "execution_count": null,
   "metadata": {},
   "outputs": [],
   "source": [
    "venta = pd.read_csv(\"venta_inmuebles.csv\")"
   ]
  },
  {
   "cell_type": "code",
   "execution_count": null,
   "metadata": {},
   "outputs": [],
   "source": [
    "df = venta.copy()\n"
   ]
  },
  {
   "cell_type": "code",
   "execution_count": null,
   "metadata": {},
   "outputs": [],
   "source": [
    "df.info() "
   ]
  },
  {
   "cell_type": "code",
   "execution_count": null,
   "metadata": {},
   "outputs": [],
   "source": [
    "# Función para extraer las características de la columna y convertirlas en columnas separadas\n",
    "def extraer_caracteristicas(fila):\n",
    "    # Elimina los caracteres adicionales para convertir la cadena en una lista de tuplas\n",
    "    fila = fila.strip(\"[]\")  # Elimina los corchetes externos\n",
    "    elementos = fila.split(\"), (\")  # Divide la cadena en tuplas individuales\n",
    "    \n",
    "    datos_extraidos = {}\n",
    "    for elemento in elementos:\n",
    "        # Divide cada elemento en clave y valor\n",
    "        clave, valor = elemento.split(\", \", 1)\n",
    "        clave = clave.replace(\"(\", \"\").replace(\"'\", \"\").strip()  # Limpia clave\n",
    "        valor = valor.replace(\")\", \"\").replace(\"'\", \"\").strip()  # Limpia valor\n",
    "        datos_extraidos[clave.strip(':')] = valor  # Remueve ':' del final de la clave si está presente\n",
    "    return datos_extraidos\n",
    "\n",
    "# Aplicar la función a la columna 'Características' y expandir en columnas separadas\n",
    "caracteristicas_df = df['Características'].dropna().apply(extraer_caracteristicas)\n",
    "caracteristicas_expandidas = pd.json_normalize(caracteristicas_df)\n",
    "\n",
    "# Combinar las columnas expandidas con el DataFrame original (elimina la columna 'Características' original)\n",
    "df_limpio = pd.concat([df.drop(columns=['Características']), caracteristicas_expandidas], axis=1)\n",
    "\n",
    "# Guardar el DataFrame limpio en un nuevo archivo CSV si deseas conservarlo\n",
    "df_limpio.to_csv('venta_inmuebles_limpio.csv', index=False)\n",
    "\n",
    "# Visualización del resultado\n",
    "print(df_limpio.head())\n"
   ]
  },
  {
   "cell_type": "code",
   "execution_count": null,
   "metadata": {},
   "outputs": [],
   "source": [
    "df_limpio"
   ]
  },
  {
   "cell_type": "code",
   "execution_count": null,
   "metadata": {},
   "outputs": [],
   "source": [
    "# Lista de tipos de casa que queremos identificar\n",
    "tipos_casa = [\"Piso\", \"Chalet\", \"Adosado\", \"Casa\", \"Estudio\", \"Dúplex\"]\n",
    "\n",
    "# Función para extraer el tipo de casa de la descripción\n",
    "def extraer_tipo_casa(descripcion):\n",
    "    for tipo in tipos_casa:\n",
    "        if tipo.lower() in descripcion.lower():\n",
    "            return tipo\n",
    "    return \"Otro\"  # Valor por defecto si no coincide con ninguno de los tipos en la lista\n",
    "\n",
    "# Crear una nueva columna en el DataFrame con el tipo de casa\n",
    "df_limpio['Tipo de Casa'] = df_limpio['Descripción'].apply(extraer_tipo_casa)\n",
    "\n",
    "# Visualización del resultado\n",
    "print(df_limpio[['Descripción', 'Tipo de Casa']].head())\n"
   ]
  },
  {
   "cell_type": "code",
   "execution_count": null,
   "metadata": {},
   "outputs": [],
   "source": []
  },
  {
   "cell_type": "code",
   "execution_count": null,
   "metadata": {},
   "outputs": [
    {
     "name": "stdout",
     "output_type": "stream",
     "text": [
      "0   2024-10-28\n",
      "1   2024-10-28\n",
      "2   2024-10-28\n",
      "3   2024-07-03\n",
      "4   2024-10-03\n",
      "Name: Última Actualización, dtype: datetime64[ns]\n"
     ]
    }
   ],
   "source": [
    "# Extraer la fecha de la columna 'Última Actualización' y convertirla a tipo datetime\n",
    "df_limpio['Última Actualización'] = df_limpio['Última Actualización'].str.extract(r'(\\d{2}/\\d{2}/\\d{4})')\n",
    "df_limpio['Última Actualización'] = pd.to_datetime(df_limpio['Última Actualización'], format='%d/%m/%Y')\n",
    "\n",
    "# Verificar el resultado\n",
    "print(df_limpio['Última Actualización'].head())\n"
   ]
  },
  {
   "cell_type": "code",
   "execution_count": null,
   "metadata": {},
   "outputs": [],
   "source": [
    "# Eliminar filas donde 'Precio' es NaN\n",
    "df_limpio = df_limpio.dropna(subset=['Precio'])\n"
   ]
  },
  {
   "cell_type": "code",
   "execution_count": null,
   "metadata": {},
   "outputs": [],
   "source": [
    "# Filtrar filas en 'Precio' que contienen caracteres no numéricos\n",
    "valores_no_numericos = df_limpio[~df_limpio['Precio'].str.replace('.', '', regex=False).str.replace(',', '', regex=False).str.isnumeric()]\n",
    "\n",
    "# Mostrar los resultados\n",
    "print(valores_no_numericos[['Precio']])\n"
   ]
  },
  {
   "cell_type": "code",
   "execution_count": null,
   "metadata": {},
   "outputs": [],
   "source": [
    "# Limpiar valores en la columna 'Precio', eliminando puntos y comas, y convertir a float\n",
    "df_limpio.loc[:, 'Precio'] = df_limpio['Precio'].replace({r'\\.': '', ',': ''}, regex=True).astype(float)\n"
   ]
  },
  {
   "cell_type": "code",
   "execution_count": null,
   "metadata": {},
   "outputs": [],
   "source": [
    "# Rellenar valores nulos en columnas categóricas\n",
    "df_limpio['Antigüedad'].fillna('No especificado', inplace=True)\n",
    "df_limpio['Conservación'].fillna('No especificado', inplace=True)\n",
    "df_limpio['Planta'].fillna('No especificado', inplace=True)"
   ]
  },
  {
   "cell_type": "code",
   "execution_count": null,
   "metadata": {},
   "outputs": [],
   "source": [
    " #Convertir 'Superficie construida' y 'Superficie útil' a numérico\n",
    "df_limpio['Superficie construida'] = df_limpio['Superficie construida'].str.replace(' m²', '').astype(float)\n",
    "df_limpio['Superficie útil'] = df_limpio['Superficie útil'].str.replace(' m²', '').astype(float)"
   ]
  },
  {
   "cell_type": "code",
   "execution_count": null,
   "metadata": {},
   "outputs": [],
   "source": [
    "# Eliminar filas duplicadas\n",
    "df_limpio.drop_duplicates(inplace=True)\n"
   ]
  },
  {
   "cell_type": "code",
   "execution_count": null,
   "metadata": {},
   "outputs": [],
   "source": [
    "# Usar .title() para capitalizar la primera letra de cada palabra en los nombres de columna\n",
    "df_limpio.columns = df_limpio.columns.str.title()\n",
    "\n",
    "# Verificar los nombres de las columnas\n",
    "print(df_limpio.columns)\n"
   ]
  }
 ],
 "metadata": {
  "kernelspec": {
   "display_name": ".venv",
   "language": "python",
   "name": "python3"
  },
  "language_info": {
   "name": "python",
   "version": "3.12.3"
  }
 },
 "nbformat": 4,
 "nbformat_minor": 2
}
